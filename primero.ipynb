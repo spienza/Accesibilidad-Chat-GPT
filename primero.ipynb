{
 "cells": [
  {
   "cell_type": "code",
   "execution_count": 28,
   "metadata": {},
   "outputs": [
    {
     "name": "stdout",
     "output_type": "stream",
     "text": [
      "23\n"
     ]
    }
   ],
   "source": []
  },
  {
   "cell_type": "code",
   "execution_count": null,
   "metadata": {},
   "outputs": [],
   "source": [
    "\"\"\"Descargar e instalar PyAudio:\n",
    "Para instalar PyAudio, puede utilizar pip, el gestor de paquetes de Python. Abra una terminal o línea de comandos en su computadora \n",
    "y escriba el siguiente comando:#se puede requerir actualizar el %pip. Instalar Xcode command line tools.\n",
    "Instalar Homebrew, un administrador de paquetes para macOS. (buscar como se hace en chat gpt) \n",
    "\n",
    "Una vez instalado Homebrew, se pueden instalar las dependencias de PyAudio con el siguiente comando en la terminal:\n",
    "brew install portaudio\n",
    "Finalmente, se puede instalar PyAudio utilizando pip:\n",
    "pip install pyaudio\n",
    " \"\"\"\n",
    "%pip install pyaudio\n",
    "\n"
   ]
  },
  {
   "cell_type": "code",
   "execution_count": null,
   "metadata": {},
   "outputs": [],
   "source": [
    "\"\"\"Descargar SpeechRecognition\"\"\"\n",
    "\n",
    "%pip install SpeechRecognition"
   ]
  },
  {
   "cell_type": "code",
   "execution_count": 30,
   "metadata": {},
   "outputs": [
    {
     "ename": "OSError",
     "evalue": "FLAC conversion utility not available - consider installing the FLAC command line application by running `apt-get install flac` or your operating system's equivalent",
     "output_type": "error",
     "traceback": [
      "\u001b[0;31m---------------------------------------------------------------------------\u001b[0m",
      "\u001b[0;31mOSError\u001b[0m                                   Traceback (most recent call last)",
      "Cell \u001b[0;32mIn[30], line 11\u001b[0m\n\u001b[1;32m      7\u001b[0m \u001b[39mwith\u001b[39;00m mic \u001b[39mas\u001b[39;00m source:\n\u001b[1;32m      9\u001b[0m     audio \u001b[39m=\u001b[39m recognizer\u001b[39m.\u001b[39mlisten(source)\n\u001b[0;32m---> 11\u001b[0m text \u001b[39m=\u001b[39m recognizer\u001b[39m.\u001b[39;49mrecognize_google(audio, language \u001b[39m=\u001b[39;49m \u001b[39m'\u001b[39;49m\u001b[39mES\u001b[39;49m\u001b[39m'\u001b[39;49m)\n\u001b[1;32m     13\u001b[0m \u001b[39mprint\u001b[39m(\u001b[39mf\u001b[39m\u001b[39m'\u001b[39m\u001b[39mHas dicho: \u001b[39m\u001b[39m{\u001b[39;00mtext\u001b[39m}\u001b[39;00m\u001b[39m'\u001b[39m)\n",
      "File \u001b[0;32m~/Library/Python/3.9/lib/python/site-packages/speech_recognition/__init__.py:693\u001b[0m, in \u001b[0;36mRecognizer.recognize_google\u001b[0;34m(self, audio_data, key, language, pfilter, show_all, with_confidence)\u001b[0m\n\u001b[1;32m    690\u001b[0m \u001b[39massert\u001b[39;00m key \u001b[39mis\u001b[39;00m \u001b[39mNone\u001b[39;00m \u001b[39mor\u001b[39;00m \u001b[39misinstance\u001b[39m(key, \u001b[39mstr\u001b[39m), \u001b[39m\"\u001b[39m\u001b[39m``key`` must be ``None`` or a string\u001b[39m\u001b[39m\"\u001b[39m\n\u001b[1;32m    691\u001b[0m \u001b[39massert\u001b[39;00m \u001b[39misinstance\u001b[39m(language, \u001b[39mstr\u001b[39m), \u001b[39m\"\u001b[39m\u001b[39m``language`` must be a string\u001b[39m\u001b[39m\"\u001b[39m\n\u001b[0;32m--> 693\u001b[0m flac_data \u001b[39m=\u001b[39m audio_data\u001b[39m.\u001b[39;49mget_flac_data(\n\u001b[1;32m    694\u001b[0m     convert_rate\u001b[39m=\u001b[39;49m\u001b[39mNone\u001b[39;49;00m \u001b[39mif\u001b[39;49;00m audio_data\u001b[39m.\u001b[39;49msample_rate \u001b[39m>\u001b[39;49m\u001b[39m=\u001b[39;49m \u001b[39m8000\u001b[39;49m \u001b[39melse\u001b[39;49;00m \u001b[39m8000\u001b[39;49m,  \u001b[39m# audio samples must be at least 8 kHz\u001b[39;49;00m\n\u001b[1;32m    695\u001b[0m     convert_width\u001b[39m=\u001b[39;49m\u001b[39m2\u001b[39;49m  \u001b[39m# audio samples must be 16-bit\u001b[39;49;00m\n\u001b[1;32m    696\u001b[0m )\n\u001b[1;32m    697\u001b[0m \u001b[39mif\u001b[39;00m key \u001b[39mis\u001b[39;00m \u001b[39mNone\u001b[39;00m: key \u001b[39m=\u001b[39m \u001b[39m\"\u001b[39m\u001b[39mAIzaSyBOti4mM-6x9WDnZIjIeyEU21OpBXqWBgw\u001b[39m\u001b[39m\"\u001b[39m\n\u001b[1;32m    698\u001b[0m url \u001b[39m=\u001b[39m \u001b[39m\"\u001b[39m\u001b[39mhttp://www.google.com/speech-api/v2/recognize?\u001b[39m\u001b[39m{}\u001b[39;00m\u001b[39m\"\u001b[39m\u001b[39m.\u001b[39mformat(urlencode({\n\u001b[1;32m    699\u001b[0m     \u001b[39m\"\u001b[39m\u001b[39mclient\u001b[39m\u001b[39m\"\u001b[39m: \u001b[39m\"\u001b[39m\u001b[39mchromium\u001b[39m\u001b[39m\"\u001b[39m,\n\u001b[1;32m    700\u001b[0m     \u001b[39m\"\u001b[39m\u001b[39mlang\u001b[39m\u001b[39m\"\u001b[39m: language,\n\u001b[1;32m    701\u001b[0m     \u001b[39m\"\u001b[39m\u001b[39mkey\u001b[39m\u001b[39m\"\u001b[39m: key,\n\u001b[1;32m    702\u001b[0m     \u001b[39m\"\u001b[39m\u001b[39mpFilter\u001b[39m\u001b[39m\"\u001b[39m: pfilter\n\u001b[1;32m    703\u001b[0m }))\n",
      "File \u001b[0;32m~/Library/Python/3.9/lib/python/site-packages/speech_recognition/audio.py:232\u001b[0m, in \u001b[0;36mAudioData.get_flac_data\u001b[0;34m(self, convert_rate, convert_width)\u001b[0m\n\u001b[1;32m    230\u001b[0m \u001b[39m# run the FLAC converter with the WAV data to get the FLAC data\u001b[39;00m\n\u001b[1;32m    231\u001b[0m wav_data \u001b[39m=\u001b[39m \u001b[39mself\u001b[39m\u001b[39m.\u001b[39mget_wav_data(convert_rate, convert_width)\n\u001b[0;32m--> 232\u001b[0m flac_converter \u001b[39m=\u001b[39m get_flac_converter()\n\u001b[1;32m    233\u001b[0m \u001b[39mif\u001b[39;00m (\n\u001b[1;32m    234\u001b[0m     os\u001b[39m.\u001b[39mname \u001b[39m==\u001b[39m \u001b[39m\"\u001b[39m\u001b[39mnt\u001b[39m\u001b[39m\"\u001b[39m\n\u001b[1;32m    235\u001b[0m ):  \u001b[39m# on Windows, specify that the process is to be started without showing a console window\u001b[39;00m\n\u001b[1;32m    236\u001b[0m     startup_info \u001b[39m=\u001b[39m subprocess\u001b[39m.\u001b[39mSTARTUPINFO()\n",
      "File \u001b[0;32m~/Library/Python/3.9/lib/python/site-packages/speech_recognition/audio.py:290\u001b[0m, in \u001b[0;36mget_flac_converter\u001b[0;34m()\u001b[0m\n\u001b[1;32m    288\u001b[0m         flac_converter \u001b[39m=\u001b[39m os\u001b[39m.\u001b[39mpath\u001b[39m.\u001b[39mjoin(base_path, \u001b[39m\"\u001b[39m\u001b[39mflac-linux-x86_64\u001b[39m\u001b[39m\"\u001b[39m)\n\u001b[1;32m    289\u001b[0m     \u001b[39melse\u001b[39;00m:  \u001b[39m# no FLAC converter available\u001b[39;00m\n\u001b[0;32m--> 290\u001b[0m         \u001b[39mraise\u001b[39;00m \u001b[39mOSError\u001b[39;00m(\n\u001b[1;32m    291\u001b[0m             \u001b[39m\"\u001b[39m\u001b[39mFLAC conversion utility not available - consider installing the FLAC command line application by running `apt-get install flac` or your operating system\u001b[39m\u001b[39m'\u001b[39m\u001b[39ms equivalent\u001b[39m\u001b[39m\"\u001b[39m\n\u001b[1;32m    292\u001b[0m         )\n\u001b[1;32m    294\u001b[0m \u001b[39m# mark FLAC converter as executable if possible\u001b[39;00m\n\u001b[1;32m    295\u001b[0m \u001b[39mtry\u001b[39;00m:\n\u001b[1;32m    296\u001b[0m     \u001b[39m# handle known issue when running on docker:\u001b[39;00m\n\u001b[1;32m    297\u001b[0m     \u001b[39m# run executable right after chmod() may result in OSError \"Text file busy\"\u001b[39;00m\n\u001b[1;32m    298\u001b[0m     \u001b[39m# fix: flush FS with sync\u001b[39;00m\n",
      "\u001b[0;31mOSError\u001b[0m: FLAC conversion utility not available - consider installing the FLAC command line application by running `apt-get install flac` or your operating system's equivalent"
     ]
    }
   ],
   "source": [
    "import speech_recognition as sr\n",
    "\n",
    "recognizer = sr.Recognizer()\n",
    "\n",
    "mic = sr.Microphone()\n",
    "\n",
    "with mic as source:\n",
    "\n",
    "    audio = recognizer.listen(source)\n",
    "\n",
    "text = recognizer.recognize_google(audio, language = 'ES')\n",
    "\n",
    "print(f'Has dicho: {text}')"
   ]
  },
  {
   "cell_type": "code",
   "execution_count": null,
   "metadata": {},
   "outputs": [],
   "source": []
  }
 ],
 "metadata": {
  "kernelspec": {
   "display_name": "Python 3",
   "language": "python",
   "name": "python3"
  },
  "language_info": {
   "codemirror_mode": {
    "name": "ipython",
    "version": 3
   },
   "file_extension": ".py",
   "mimetype": "text/x-python",
   "name": "python",
   "nbconvert_exporter": "python",
   "pygments_lexer": "ipython3",
   "version": "3.9.6 (default, Oct 18 2022, 12:41:40) \n[Clang 14.0.0 (clang-1400.0.29.202)]"
  },
  "orig_nbformat": 4,
  "vscode": {
   "interpreter": {
    "hash": "31f2aee4e71d21fbe5cf8b01ff0e069b9275f58929596ceb00d14d90e3e16cd6"
   }
  }
 },
 "nbformat": 4,
 "nbformat_minor": 2
}
